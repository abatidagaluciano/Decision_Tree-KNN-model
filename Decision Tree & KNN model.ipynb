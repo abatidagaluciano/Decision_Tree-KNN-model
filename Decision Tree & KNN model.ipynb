{
 "cells": [
  {
   "cell_type": "markdown",
   "metadata": {},
   "source": [
    "# Proyecto 3: Predicción de precios de propiedades"
   ]
  },
  {
   "cell_type": "markdown",
   "metadata": {},
   "source": [
    "¡Bienvenidos al tercer proyecto de la carrera de Data Science de Acamica! \n",
    "\n",
    "En este proyecto vamos a seguir trabajando con el dataset de propiedades en venta publicadas en el portal [Properati](www.properati.com.ar). El objetivo en este caso armar nuestros primeros modelos para predecir el precio de las propiedades en dólares.\n",
    "\n",
    "Las columnas que se agregan son:\n",
    "\n",
    "* `barrios_match`: si coincide el barrio publicado con el geográfico vale 1, si no 0.\n",
    "\n",
    "* `PH`, `apartment`, `house`: variables binarias que indican el tipo de propiedad.\n",
    "\n",
    "* dummies de barrios: variables binarias con 1 o 0 según el barrio.\n",
    "\n",
    "La métrica que vamos a usar para medir es RMSE (raíz del error cuadrático medio), cuya fórmula es:\n",
    "\n",
    "$$RMSE = \\sqrt{\\frac{\\sum_{t=1}^n (\\hat y_t - y_t)^2}{n}}$$"
   ]
  },
  {
   "cell_type": "code",
   "execution_count": 1,
   "metadata": {},
   "outputs": [],
   "source": [
    "import pandas as pd\n",
    "pd.set_option('display.float_format', lambda x: '%.3f' % x)\n",
    "path_dataset = 'dataset/datos_properati_limpios_model.csv'\n",
    "df = pd.read_csv(path_dataset)"
   ]
  },
  {
   "cell_type": "code",
   "execution_count": 2,
   "metadata": {},
   "outputs": [
    {
     "name": "stdout",
     "output_type": "stream",
     "text": [
      "El dataset que vamos a trabajar aquí tiene 6376 observaciones\n"
     ]
    }
   ],
   "source": [
    "print(\"El dataset que vamos a trabajar aquí tiene {} observaciones\".format(df.shape[0]))"
   ]
  },
  {
   "cell_type": "markdown",
   "metadata": {},
   "source": [
    "El objetivo de este proyecto es poder trabajar en el ajuste de modelos y su posterior evaluación."
   ]
  },
  {
   "cell_type": "markdown",
   "metadata": {},
   "source": [
    "Para empezar vamos a separar el `dataset` en un conjunto de entrenamiento (80%) y un conjunto de test (20%). \n",
    "\n",
    "**Separá el dataset** en `X_train`, `X_test`, `y_train` e `y_test` con el tamaño correspondiente"
   ]
  },
  {
   "cell_type": "code",
   "execution_count": 3,
   "metadata": {},
   "outputs": [
    {
     "name": "stdout",
     "output_type": "stream",
     "text": [
      "(5100, 58) (1276, 58)\n"
     ]
    }
   ],
   "source": [
    "X = df.drop(['price_aprox_usd'], axis=1)\n",
    "y = df['price_aprox_usd']\n",
    "\n",
    "# Realizá la separación a continuación en esta celda\n",
    "from sklearn.model_selection import train_test_split #Cargamos el train test split\n",
    "\n",
    "X_train, X_test, y_train, y_test = train_test_split(X, y, test_size = 0.2) #Separamos el dataset en un\n",
    "#conjunto de entrenamiento y otro de test en el que este ultimo sea un 20%\n",
    "\n",
    "print(X_train.shape, X_test.shape)"
   ]
  },
  {
   "cell_type": "markdown",
   "metadata": {},
   "source": [
    "## Árboles de decisión\n",
    "\n",
    "Lo primero que vamos a hacer es entrenar un árbol de decisión y usar de métrica al `RMSE`. \n",
    "\n",
    "Para poder obtener el **RMSE** vamos a medir el `mean_squared_error` y obtener su raíz cuadrada. \n",
    "\n",
    "**Importá** `DecisionTreeRegressor` desde `sklearn.tree`.  \n",
    "\n",
    "A continuación **entrená** el regresor con el conjunto de training\n"
   ]
  },
  {
   "cell_type": "code",
   "execution_count": 4,
   "metadata": {},
   "outputs": [
    {
     "data": {
      "text/plain": [
       "DecisionTreeRegressor(ccp_alpha=0.0, criterion='mse', max_depth=None,\n",
       "                      max_features=None, max_leaf_nodes=None,\n",
       "                      min_impurity_decrease=0.0, min_impurity_split=None,\n",
       "                      min_samples_leaf=1, min_samples_split=2,\n",
       "                      min_weight_fraction_leaf=0.0, presort='deprecated',\n",
       "                      random_state=None, splitter='best')"
      ]
     },
     "execution_count": 4,
     "metadata": {},
     "output_type": "execute_result"
    }
   ],
   "source": [
    "# En esta celda cargá el regresor y realizá el entrenamiento\n",
    "from sklearn.tree import DecisionTreeRegressor #Cargamos el árbol de decisión\n",
    "\n",
    "tree_reg = DecisionTreeRegressor() #Asignamos el objeto a una variable\n",
    "tree_reg.fit(X_train, y_train) #Entrenamos el árbol con los datos de entrenamiento"
   ]
  },
  {
   "cell_type": "markdown",
   "metadata": {},
   "source": [
    "Con el modelo entrenado **realizá la predicción** sobre el conjunto de test `X_test` y guardá el resultado en una variable `y_pred`."
   ]
  },
  {
   "cell_type": "code",
   "execution_count": 5,
   "metadata": {},
   "outputs": [],
   "source": [
    "# Acá realizá la predicción\n",
    "y_pred = tree_reg.predict(X_test)"
   ]
  },
  {
   "cell_type": "markdown",
   "metadata": {},
   "source": [
    "**Calculá el rmse** sacando la raíz cuadrada de `mean_squared_error` entre `y_test` e `y_pred` y **mostrá** el resultado"
   ]
  },
  {
   "cell_type": "code",
   "execution_count": 6,
   "metadata": {},
   "outputs": [
    {
     "data": {
      "text/plain": [
       "24927.96384356137"
      ]
     },
     "execution_count": 6,
     "metadata": {},
     "output_type": "execute_result"
    }
   ],
   "source": [
    "# En esta celda calculá el rmse\n",
    "import numpy as np\n",
    "from sklearn.metrics import mean_squared_error #Cargamos el MSE\n",
    "\n",
    "RMSE = np.sqrt(mean_squared_error(y_test, y_pred)) #Calculamos el RMSE\n",
    "RMSE"
   ]
  },
  {
   "cell_type": "markdown",
   "metadata": {},
   "source": [
    "__Analizar el cambio en el RMSE a medida que es más profundo el árbol de decisión, tanto en training como en testing.__\n",
    "\n",
    "Para esto, **iterá** de 5 en 5 en el parámetro `max_depth` y **observá** como impacta en el RMSE. \n",
    "\n",
    "**Creá** dos arreglos `rmses_train` y `rmses_test` para ir guardando los **rmse** de cada profundidad"
   ]
  },
  {
   "cell_type": "code",
   "execution_count": 7,
   "metadata": {},
   "outputs": [
    {
     "name": "stdout",
     "output_type": "stream",
     "text": [
      "[26771.441339088728, 20295.628376024324, 14359.187035171184, 8281.661614888695, 4333.073550498337, 1300.5316218813632] \n",
      "\n",
      " [26476.290513611246, 21596.52800800568, 22667.16597378208, 24392.29661304359, 24878.56060415961, 25362.41783320747]\n"
     ]
    }
   ],
   "source": [
    "rmses_train = [] #Creamos las listas vacias\n",
    "rmses_test = []\n",
    "\n",
    "for i in range(1,30,5):\n",
    "    tree_reg1 = DecisionTreeRegressor(max_depth=i) #Configuramos el árbol para que tenga una profundidad i\n",
    "    #iterando de 5 en 5 la profundidad hasta 30\n",
    "    tree_reg1.fit(X_train, y_train)\n",
    "    y_pred1 = tree_reg1.predict(X_train) #Predecimos sobre el conjunto X de entrenamiento\n",
    "    RMSE1 = np.sqrt(mean_squared_error(y_train, y_pred1))\n",
    "    rmses_train.append(RMSE1) #Guardamos cada valor de RMSE en la lista creada\n",
    "\n",
    "for i in range(1,30,5):\n",
    "    tree_reg2 = DecisionTreeRegressor(max_depth=i)\n",
    "    tree_reg2.fit(X_train, y_train)\n",
    "    y_pred2 = tree_reg2.predict(X_test) #Predecimos sobre el conjunto X de testeo\n",
    "    RMSE2 = np.sqrt(mean_squared_error(y_test, y_pred2))\n",
    "    rmses_test.append(RMSE2)\n",
    "\n",
    "print (rmses_train,'\\n\\n', rmses_test)"
   ]
  },
  {
   "cell_type": "markdown",
   "metadata": {},
   "source": [
    "Ahora graficamos los valores que guardamos en los arreglos `rmses_train` y `rmses_test`"
   ]
  },
  {
   "cell_type": "code",
   "execution_count": 8,
   "metadata": {
    "scrolled": true
   },
   "outputs": [
    {
     "data": {
      "image/png": "[encoded data removed]",
      "text/plain": [
       "<Figure size 432x288 with 1 Axes>"
      ]
     },
     "metadata": {
      "needs_background": "light"
     },
     "output_type": "display_data"
    }
   ],
   "source": [
    "import matplotlib.pyplot as plt\n",
    "%matplotlib inline \n",
    "plt.plot(range(1,30, 5), rmses_train, label='RMSE Training')\n",
    "plt.plot(range(1,30, 5), rmses_test, label='RMSE Testing')\n",
    "plt.ylim((0, 30000))\n",
    "plt.legend(loc=\"best\")\n",
    "plt.title(\"RMSE Training vs RMSE Testing para árboles de decisión\")\n",
    "plt.show()"
   ]
  },
  {
   "cell_type": "markdown",
   "metadata": {},
   "source": [
    "Podemos ver aquí como el modelo presenta sobreajuste dado que a mayor complejidad (en este caso, mayor profundidad del árbol) más diferencia entre los resultados de training y testing. También observamos como la curva de testing decrece y luego vuelvo a crecer. El punto donde se minimiza está relacionado con el tradeoff entre sesgo y varianza que vamos a ver en la próxima unidad."
   ]
  },
  {
   "cell_type": "markdown",
   "metadata": {},
   "source": [
    "## KNN"
   ]
  },
  {
   "cell_type": "markdown",
   "metadata": {},
   "source": [
    "**Entrená un knn** y nuevamente medir el **rmse** en el conjunto de testing\n"
   ]
  },
  {
   "cell_type": "code",
   "execution_count": 9,
   "metadata": {},
   "outputs": [
    {
     "data": {
      "text/plain": [
       "22969.21406969986"
      ]
     },
     "execution_count": 9,
     "metadata": {},
     "output_type": "execute_result"
    }
   ],
   "source": [
    "# Realizá el entrenamiento y el cálculo de rmse en esta celda\n",
    "from sklearn.neighbors import KNeighborsRegressor\n",
    "\n",
    "knn = KNeighborsRegressor() #Cargamos el objeto regresor a una variable knn\n",
    "knn.fit(X_train, y_train) #Entrenamos el modelo\n",
    "y_pred = knn.predict(X_test) #Predecimos con el modelo los datos X de testeo\n",
    "RMSE = np.sqrt(mean_squared_error(y_test, y_pred)) #Calculamos el RMSE\n",
    "RMSE"
   ]
  },
  {
   "cell_type": "markdown",
   "metadata": {},
   "source": [
    "__Analizar el cambio en el RMSE a medida que consideramos más vecinos para KNN, tanto en training como en testing.__\n",
    "\n",
    "Para esto, **iterá** incrementando de a uno el parámetro `n_neighbors` y **observá** como impacta en el RMSE. \n",
    "\n",
    "**Creá** dos arreglos `rmses_train` y `rmses_test` para ir guardando los **rmse** de cada profundidad"
   ]
  },
  {
   "cell_type": "code",
   "execution_count": 10,
   "metadata": {},
   "outputs": [
    {
     "name": "stdout",
     "output_type": "stream",
     "text": [
      "[718.5530523347652, 13717.40798317397, 16272.013864548664, 17815.59322448986, 18726.51606432184, 19346.672112698438, 19729.301251895657, 20103.165571949557, 20443.145662510287, 20662.663198019436, 20881.785346421115, 21038.75960087545, 21190.314989573806, 21299.105568366966, 21387.74276707284, 21485.02156480733, 21609.690226101884, 21721.63447030005, 21832.052587367034, 21917.41311400407, 22003.196891763902, 22069.964485114717, 22132.001731685014, 22198.230990134718, 22275.70233769462, 22335.119632699047, 22407.347157878354, 22444.691146077388, 22499.118598216875] \n",
      "\n",
      " [27652.28789184441, 25042.972883226685, 24059.44422527212, 23136.989233474003, 22969.21406969986, 22877.81432698678, 22912.239911419118, 23033.57979080123, 23024.98709777225, 23027.480293053824, 23029.549755270134, 23022.76981096138, 23082.974788555057, 23137.05447315904, 23111.175350542177, 23054.572193262833, 22991.442999546194, 23040.816049577654, 23057.933924681616, 23099.661968940516, 23089.88760212126, 23102.357267339958, 23170.71358151992, 23205.031102665773, 23208.841642016094, 23219.885435813627, 23235.97758575092, 23249.032041041195, 23279.72864859306]\n"
     ]
    }
   ],
   "source": [
    "# Calculá los cambio en el rmse en esta celda\n",
    "rmses_train = [] #Creamos las listas vacias\n",
    "rmses_test = []\n",
    "\n",
    "for i in range(1,30,1):\n",
    "    knn1 = KNeighborsRegressor(n_neighbors=i) #Asigno un valor i a la cantidad de vecinos\n",
    "    #para que se vayan iterando de a uno hasta llegar a un valor maximo de 30\n",
    "    knn1.fit(X_train, y_train)\n",
    "    y_pred3 = knn1.predict(X_train)\n",
    "    RMSE3 = np.sqrt(mean_squared_error(y_train, y_pred3))\n",
    "    rmses_train.append(RMSE3) #Adjunto cada valor de RMSE a la lista creada\n",
    "\n",
    "for i in range(1,30,1):\n",
    "    knn2 = KNeighborsRegressor(n_neighbors=i)\n",
    "    knn2.fit(X_train, y_train)\n",
    "    y_pred4 = knn2.predict(X_test)\n",
    "    RMSE4 = np.sqrt(mean_squared_error(y_test, y_pred4))\n",
    "    rmses_test.append(RMSE4)\n",
    "    \n",
    "print (rmses_train,'\\n\\n', rmses_test)"
   ]
  },
  {
   "cell_type": "code",
   "execution_count": 11,
   "metadata": {},
   "outputs": [
    {
     "data": {
      "image/png": "[encoded data removed]",
      "text/plain": [
       "<Figure size 432x288 with 1 Axes>"
      ]
     },
     "metadata": {
      "needs_background": "light"
     },
     "output_type": "display_data"
    }
   ],
   "source": [
    "plt.plot(range(1,30, 1), rmses_train, label='RMSE Training')\n",
    "plt.plot(range(1,30, 1), rmses_test, label='RMSE Testing')\n",
    "plt.ylim((0, 30000))\n",
    "plt.legend(loc=\"best\")\n",
    "plt.title(\"RMSE Training vs RMSE Testing para KNN\")\n",
    "plt.show()"
   ]
  },
  {
   "cell_type": "markdown",
   "metadata": {},
   "source": [
    "**Calcular el RMSE promedio del resultado de cross validation para un árbol de decisión. \n",
    "Como parámetros deberás usar:**\n",
    "- 10 folds\n",
    "- profundidad 5\n",
    "- scoring neg_mean_squared_error.\n",
    "\n",
    "El árbol de decisión guardalo en una variable llamada `regressor` para poder reutilizarla luego.\n",
    "\n",
    "Atención: `cross_validation_score` de `scikit-learn` usá la métrica `neg_mean_squared_error` (NMSE) en vez de `mean_square_error` (MSE). \n",
    "\n",
    "`NMSE` es lo mismo que `MSE` pero con un signo negativo. \n",
    "\n",
    "Como nosotros queremos obtener el `MSE` para calcular sobre él el `RMSE`, vamos a definir un método `nmsq2rmse` para hacer esa conversión de `NMSE` a `MSE`\n",
    "."
   ]
  },
  {
   "cell_type": "code",
   "execution_count": 12,
   "metadata": {},
   "outputs": [],
   "source": [
    "def nmsq2rmse(score):\n",
    "    return np.sqrt(-score)"
   ]
  },
  {
   "cell_type": "code",
   "execution_count": 13,
   "metadata": {},
   "outputs": [
    {
     "data": {
      "text/plain": [
       "array([21735.29552261, 21217.77145156, 22826.8054985 , 22030.7010916 ,\n",
       "       23515.35675561, 21950.20331563, 24198.81517267, 22701.60214938,\n",
       "       20451.49327438, 21067.34958916])"
      ]
     },
     "execution_count": 13,
     "metadata": {},
     "output_type": "execute_result"
    }
   ],
   "source": [
    "# Calculá en esta celda los cross_val_score\n",
    "from sklearn.model_selection import cross_val_score\n",
    "\n",
    "regressor = DecisionTreeRegressor(max_depth=5) #Asigno una variable al árbol con una profundidad de 5\n",
    "score = cross_val_score(regressor, X_train, y_train, \n",
    "                       scoring='neg_mean_squared_error', cv=10) #Realizo el cross validation sobre\n",
    "#el árbol, le paso los datos X e y de entrenamiento, el score lo ejecuto usando el NMSE y hago 10 folds \n",
    "nmsq2rmse(score) #Llamo a la funcion creada en la celda anterior para convertir el NMSE en RMSE"
   ]
  },
  {
   "cell_type": "markdown",
   "metadata": {},
   "source": [
    "Para ver el resultado final, reentrenamos al regresor y mostramos en un dataframe la comparación entre los valores reales, los predichos y su diferencia"
   ]
  },
  {
   "cell_type": "code",
   "execution_count": 14,
   "metadata": {},
   "outputs": [],
   "source": [
    "regressor.fit(X_train, y_train)\n",
    "y_pred = regressor.predict(X_test)\n",
    "val_real = pd.Series(y_test.values)\n",
    "val_pred = pd.Series(y_pred)"
   ]
  },
  {
   "cell_type": "code",
   "execution_count": 15,
   "metadata": {},
   "outputs": [],
   "source": [
    "predicciones = pd.concat([val_real.rename('Valor real'),val_pred.rename('Valor Pred') ,abs(val_real-val_pred).rename('Dif(+/-)')] ,  axis=1)"
   ]
  },
  {
   "cell_type": "code",
   "execution_count": 16,
   "metadata": {},
   "outputs": [
    {
     "data": {
      "text/html": [
       "<div>\n",
       "<style scoped>\n",
       "    .dataframe tbody tr th:only-of-type {\n",
       "        vertical-align: middle;\n",
       "    }\n",
       "\n",
       "    .dataframe tbody tr th {\n",
       "        vertical-align: top;\n",
       "    }\n",
       "\n",
       "    .dataframe thead th {\n",
       "        text-align: right;\n",
       "    }\n",
       "</style>\n",
       "<table border=\"1\" class=\"dataframe\">\n",
       "  <thead>\n",
       "    <tr style=\"text-align: right;\">\n",
       "      <th></th>\n",
       "      <th>Valor real</th>\n",
       "      <th>Valor Pred</th>\n",
       "      <th>Dif(+/-)</th>\n",
       "    </tr>\n",
       "  </thead>\n",
       "  <tbody>\n",
       "    <tr>\n",
       "      <th>0</th>\n",
       "      <td>134000.000</td>\n",
       "      <td>137312.328</td>\n",
       "      <td>3312.328</td>\n",
       "    </tr>\n",
       "    <tr>\n",
       "      <th>1</th>\n",
       "      <td>144900.000</td>\n",
       "      <td>121619.473</td>\n",
       "      <td>23280.527</td>\n",
       "    </tr>\n",
       "    <tr>\n",
       "      <th>2</th>\n",
       "      <td>68500.000</td>\n",
       "      <td>75859.384</td>\n",
       "      <td>7359.384</td>\n",
       "    </tr>\n",
       "    <tr>\n",
       "      <th>3</th>\n",
       "      <td>165000.000</td>\n",
       "      <td>140819.973</td>\n",
       "      <td>24180.027</td>\n",
       "    </tr>\n",
       "    <tr>\n",
       "      <th>4</th>\n",
       "      <td>75000.000</td>\n",
       "      <td>84141.254</td>\n",
       "      <td>9141.254</td>\n",
       "    </tr>\n",
       "    <tr>\n",
       "      <th>5</th>\n",
       "      <td>150000.000</td>\n",
       "      <td>109532.065</td>\n",
       "      <td>40467.935</td>\n",
       "    </tr>\n",
       "    <tr>\n",
       "      <th>6</th>\n",
       "      <td>89000.000</td>\n",
       "      <td>85465.003</td>\n",
       "      <td>3534.997</td>\n",
       "    </tr>\n",
       "    <tr>\n",
       "      <th>7</th>\n",
       "      <td>163000.000</td>\n",
       "      <td>137312.328</td>\n",
       "      <td>25687.672</td>\n",
       "    </tr>\n",
       "    <tr>\n",
       "      <th>8</th>\n",
       "      <td>165000.000</td>\n",
       "      <td>147082.154</td>\n",
       "      <td>17917.846</td>\n",
       "    </tr>\n",
       "    <tr>\n",
       "      <th>9</th>\n",
       "      <td>149000.000</td>\n",
       "      <td>134234.705</td>\n",
       "      <td>14765.295</td>\n",
       "    </tr>\n",
       "  </tbody>\n",
       "</table>\n",
       "</div>"
      ],
      "text/plain": [
       "   Valor real  Valor Pred  Dif(+/-)\n",
       "0  134000.000  137312.328  3312.328\n",
       "1  144900.000  121619.473 23280.527\n",
       "2   68500.000   75859.384  7359.384\n",
       "3  165000.000  140819.973 24180.027\n",
       "4   75000.000   84141.254  9141.254\n",
       "5  150000.000  109532.065 40467.935\n",
       "6   89000.000   85465.003  3534.997\n",
       "7  163000.000  137312.328 25687.672\n",
       "8  165000.000  147082.154 17917.846\n",
       "9  149000.000  134234.705 14765.295"
      ]
     },
     "execution_count": 16,
     "metadata": {},
     "output_type": "execute_result"
    }
   ],
   "source": [
    "predicciones.head(10)"
   ]
  }
 ],
 "metadata": {
  "kernelspec": {
   "display_name": "Python 3",
   "language": "python",
   "name": "python3"
  },
  "language_info": {
   "codemirror_mode": {
    "name": "ipython",
    "version": 3
   },
   "file_extension": ".py",
   "mimetype": "text/x-python",
   "name": "python",
   "nbconvert_exporter": "python",
   "pygments_lexer": "ipython3",
   "version": "3.7.7"
  }
 },
 "nbformat": 4,
 "nbformat_minor": 2
}
